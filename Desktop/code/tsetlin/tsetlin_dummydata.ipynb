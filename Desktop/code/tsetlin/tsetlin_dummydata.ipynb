{
 "cells": [
  {
   "cell_type": "code",
   "execution_count": 4,
   "id": "155f536d",
   "metadata": {},
   "outputs": [],
   "source": [
    "import sys \n",
    "#sys.path.append(\"/longterm/saranya/\")\n",
    "\n",
    "import pyTsetlinMachine\n",
    "from pyTsetlinMachine.tm import MultiClassTsetlinMachine\n",
    "from pyTsetlinMachine.tm import RegressionTsetlinMachine\n",
    "\n",
    "\n",
    "from pyTsetlinMachine.tools import Binarizer\n",
    "#pip install pyTsetlinMachine"
   ]
  },
  {
   "cell_type": "code",
   "execution_count": 5,
   "id": "5fa1ffcf",
   "metadata": {},
   "outputs": [
    {
     "name": "stdout",
     "output_type": "stream",
     "text": [
      "\n",
      "Mean accuracy over 25 runs:\n",
      "\n",
      "#1 Average Accuracy: 95.61% +/- 0.00\n",
      "#2 Average Accuracy: 96.93% +/- 1.82\n",
      "#3 Average Accuracy: 97.08% +/- 1.24\n",
      "#4 Average Accuracy: 96.93% +/- 0.96\n",
      "#5 Average Accuracy: 97.19% +/- 0.90\n",
      "#6 Average Accuracy: 97.22% +/- 0.75\n",
      "#7 Average Accuracy: 97.12% +/- 0.67\n",
      "#8 Average Accuracy: 97.26% +/- 0.64\n",
      "#9 Average Accuracy: 96.88% +/- 0.90\n",
      "#10 Average Accuracy: 96.75% +/- 0.84\n",
      "#11 Average Accuracy: 96.97% +/- 0.87\n",
      "#12 Average Accuracy: 97.22% +/- 0.92\n",
      "#13 Average Accuracy: 97.30% +/- 0.87\n",
      "#14 Average Accuracy: 97.37% +/- 0.81\n",
      "#15 Average Accuracy: 97.19% +/- 0.83\n",
      "#16 Average Accuracy: 97.20% +/- 0.78\n",
      "#17 Average Accuracy: 97.32% +/- 0.76\n",
      "#18 Average Accuracy: 97.37% +/- 0.73\n",
      "#19 Average Accuracy: 97.37% +/- 0.69\n",
      "#20 Average Accuracy: 97.41% +/- 0.66\n",
      "#21 Average Accuracy: 97.45% +/- 0.63\n",
      "#22 Average Accuracy: 97.37% +/- 0.63\n",
      "#23 Average Accuracy: 97.33% +/- 0.60\n",
      "#24 Average Accuracy: 97.33% +/- 0.58\n",
      "#25 Average Accuracy: 97.44% +/- 0.59\n"
     ]
    }
   ],
   "source": [
    "from pyTsetlinMachine.tm import MultiClassTsetlinMachine\n",
    "from pyTsetlinMachine.tools import Binarizer\n",
    "import numpy as np\n",
    "\n",
    "from sklearn import datasets\n",
    "from sklearn.model_selection import train_test_split\n",
    "\n",
    "breast_cancer = datasets.load_breast_cancer()\n",
    "X = breast_cancer.data\n",
    "Y = breast_cancer.target\n",
    "\n",
    "b = Binarizer(max_bits_per_feature = 10)\n",
    "b.fit(X)\n",
    "X_transformed = b.transform(X)\n",
    "\n",
    "tm = MultiClassTsetlinMachine(800, 40, 5.0)\n",
    "\n",
    "print(\"\\nMean accuracy over 25 runs:\\n\")\n",
    "tm_results = np.empty(0)\n",
    "for i in range(25):\n",
    "    X_train, X_test, Y_train, Y_test = train_test_split(X_transformed, Y, test_size=0.2)\n",
    "\n",
    "    tm.fit(X_train, Y_train, epochs=25)\n",
    "    tm_results = np.append(tm_results, np.array(100*(tm.predict(X_test) == Y_test).mean()))\n",
    "    print(\"#%d Average Accuracy: %.2f%% +/- %.2f\" % (i+1, tm_results.mean(), 1.96*tm_results.std()/np.sqrt(i+1)))"
   ]
  },
  {
   "cell_type": "code",
   "execution_count": 11,
   "id": "4a232e70",
   "metadata": {},
   "outputs": [
    {
     "name": "stdout",
     "output_type": "stream",
     "text": [
      "\n",
      "Class 0 Positive Clauses:\n",
      "\n",
      "Clause #0:  ¬x13\n",
      "Clause #2:   x5 ∧ ¬x2\n",
      "Clause #4:   x13\n",
      "Clause #6:  \n",
      "Clause #8:  \n",
      "\n",
      "Class 0 Negative Clauses:\n",
      "\n",
      "Clause #1:  \n",
      "Clause #3:  \n",
      "Clause #5:   x6 ∧  x23 ∧  x27 ∧ ¬x1 ∧ ¬x24\n",
      "Clause #7:  \n",
      "Clause #9:  \n",
      "\n",
      "Class 1 Positive Clauses:\n",
      "\n",
      "Clause #0:  \n",
      "Clause #2:   x3 ∧  x12 ∧ ¬x3 ∧ ¬x4 ∧ ¬x23 ∧ ¬x24 ∧ ¬x25 ∧ ¬x26\n",
      "Clause #4:  ¬x12\n",
      "Clause #6:  \n",
      "Clause #8:  ¬x22\n",
      "\n",
      "Class 1 Negative Clauses:\n",
      "\n",
      "Clause #1:  \n",
      "Clause #3:   x14 ∧  x26 ∧ ¬x1 ∧ ¬x11 ∧ ¬x14\n",
      "Clause #5:  \n",
      "Clause #7:  \n",
      "Clause #9:  \n"
     ]
    }
   ],
   "source": [
    "number_of_features = len(X[0])\n",
    "\n",
    "print(\"\\nClass 0 Positive Clauses:\\n\")\n",
    "for j in range(0, 10, 2):\n",
    "    print(\"Clause #%d: \" % (j), end=' ')\n",
    "    l = []\n",
    "    for k in range(number_of_features*2):\n",
    "        if tm.ta_action(0, j, k) == 1:\n",
    "            if k < number_of_features:\n",
    "                l.append(\" x%d\" % (k))\n",
    "            else:\n",
    "                l.append(\"¬x%d\" % (k-number_of_features))\n",
    "    print(\" ∧ \".join(l))\n",
    "\n",
    "print(\"\\nClass 0 Negative Clauses:\\n\")\n",
    "for j in range(1, 10, 2):\n",
    "    print(\"Clause #%d: \" % (j), end=' ')\n",
    "    l = []\n",
    "    for k in range(number_of_features*2):\n",
    "        if tm.ta_action(0, j, k) == 1:\n",
    "            if k < number_of_features:\n",
    "                l.append(\" x%d\" % (k))\n",
    "            else:\n",
    "                l.append(\"¬x%d\" % (k-number_of_features))\n",
    "    print(\" ∧ \".join(l))\n",
    "\n",
    "print(\"\\nClass 1 Positive Clauses:\\n\")\n",
    "for j in range(0, 10, 2):\n",
    "    print(\"Clause #%d: \" % (j), end=' ')\n",
    "    l = []\n",
    "    for k in range(number_of_features*2):\n",
    "        if tm.ta_action(1, j, k) == 1:\n",
    "            if k < number_of_features:\n",
    "                l.append(\" x%d\" % (k))\n",
    "            else:\n",
    "                l.append(\"¬x%d\" % (k-number_of_features))\n",
    "    print(\" ∧ \".join(l))\n",
    "\n",
    "print(\"\\nClass 1 Negative Clauses:\\n\")\n",
    "for j in range(1, 10, 2):\n",
    "    print(\"Clause #%d: \" % (j), end=' ')\n",
    "    l = []\n",
    "    for k in range(number_of_features*2):\n",
    "        if tm.ta_action(1, j, k) == 1:\n",
    "            if k < number_of_features:\n",
    "                l.append(\" x%d\" % (k))\n",
    "            else:\n",
    "                l.append(\"¬x%d\" % (k-number_of_features))\n",
    "    print(\" ∧ \".join(l))\n",
    "\n"
   ]
  },
  {
   "cell_type": "code",
   "execution_count": 8,
   "id": "cb9146a8",
   "metadata": {},
   "outputs": [
    {
     "data": {
      "text/plain": [
       "'area error'"
      ]
     },
     "execution_count": 8,
     "metadata": {},
     "output_type": "execute_result"
    }
   ],
   "source": [
    "breast_cancer.feature_names[13]"
   ]
  },
  {
   "cell_type": "code",
   "execution_count": 9,
   "id": "a3811cec",
   "metadata": {},
   "outputs": [
    {
     "data": {
      "text/plain": [
       "'smoothness error'"
      ]
     },
     "execution_count": 9,
     "metadata": {},
     "output_type": "execute_result"
    }
   ],
   "source": [
    "breast_cancer.feature_names[14]"
   ]
  },
  {
   "cell_type": "code",
   "execution_count": null,
   "id": "4a7c5313",
   "metadata": {},
   "outputs": [],
   "source": []
  }
 ],
 "metadata": {
  "kernelspec": {
   "display_name": "Python 3 (ipykernel)",
   "language": "python",
   "name": "python3"
  },
  "language_info": {
   "codemirror_mode": {
    "name": "ipython",
    "version": 3
   },
   "file_extension": ".py",
   "mimetype": "text/x-python",
   "name": "python",
   "nbconvert_exporter": "python",
   "pygments_lexer": "ipython3",
   "version": "3.9.9"
  }
 },
 "nbformat": 4,
 "nbformat_minor": 5
}
