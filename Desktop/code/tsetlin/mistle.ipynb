{
 "cells": [
  {
   "cell_type": "code",
   "execution_count": 6,
   "metadata": {
    "pycharm": {
     "is_executing": false
    }
   },
   "outputs": [],
   "source": [
    "from mistle_v2 import get_dl, Mistle, Theory\n",
    "from time import time\n",
    "from data_generators import TheoryNoisyGeneratorOnDataset, GeneratedTheory\n",
    "import random\n",
    "import numpy as np\n",
    "import pycosat"
   ]
  },
  {
   "cell_type": "code",
   "execution_count": 9,
   "metadata": {
    "pycharm": {
     "is_executing": false,
     "name": "#%%\n"
    }
   },
   "outputs": [
    {
     "ename": "FileNotFoundError",
     "evalue": "[Errno 2] No such file or directory: '/Users/saranya/Desktop/tsetlin/temp_spmf_dataset_res_041bc12a-2e8d-4bec-b173-e7389f771916'",
     "output_type": "error",
     "traceback": [
      "\u001b[0;31m---------------------------------------------------------------------------\u001b[0m",
      "\u001b[0;31mFileNotFoundError\u001b[0m                         Traceback (most recent call last)",
      "\u001b[0;32m/var/folders/jp/5mc2h9cn3m50zd1h9pxzrpq80000gn/T/ipykernel_63163/2786030347.py\u001b[0m in \u001b[0;36m<module>\u001b[0;34m\u001b[0m\n\u001b[1;32m     11\u001b[0m \u001b[0;34m\u001b[0m\u001b[0m\n\u001b[1;32m     12\u001b[0m \u001b[0mmistle\u001b[0m \u001b[0;34m=\u001b[0m \u001b[0mMistle\u001b[0m\u001b[0;34m(\u001b[0m\u001b[0mpositives\u001b[0m\u001b[0;34m,\u001b[0m \u001b[0mnegatives\u001b[0m\u001b[0;34m)\u001b[0m\u001b[0;34m\u001b[0m\u001b[0;34m\u001b[0m\u001b[0m\n\u001b[0;32m---> 13\u001b[0;31m \u001b[0mtheory\u001b[0m\u001b[0;34m,\u001b[0m \u001b[0mcompression\u001b[0m \u001b[0;34m=\u001b[0m \u001b[0mmistle\u001b[0m\u001b[0;34m.\u001b[0m\u001b[0mlearn\u001b[0m\u001b[0;34m(\u001b[0m\u001b[0mminsup\u001b[0m\u001b[0;34m=\u001b[0m\u001b[0;36m1\u001b[0m\u001b[0;34m,\u001b[0m \u001b[0mdl_measure\u001b[0m\u001b[0;34m=\u001b[0m\u001b[0;34m\"ce\"\u001b[0m\u001b[0;34m)\u001b[0m\u001b[0;34m\u001b[0m\u001b[0;34m\u001b[0m\u001b[0m\n\u001b[0m\u001b[1;32m     14\u001b[0m \u001b[0mprint\u001b[0m\u001b[0;34m(\u001b[0m\u001b[0;34m\"Total time\\t\\t\\t\\t: \"\u001b[0m \u001b[0;34m+\u001b[0m \u001b[0mstr\u001b[0m\u001b[0;34m(\u001b[0m\u001b[0mtime\u001b[0m\u001b[0;34m(\u001b[0m\u001b[0;34m)\u001b[0m \u001b[0;34m-\u001b[0m \u001b[0mstart_time\u001b[0m\u001b[0;34m)\u001b[0m \u001b[0;34m+\u001b[0m \u001b[0;34m\" seconds.\"\u001b[0m\u001b[0;34m)\u001b[0m\u001b[0;34m\u001b[0m\u001b[0;34m\u001b[0m\u001b[0m\n\u001b[1;32m     15\u001b[0m \u001b[0;32mif\u001b[0m \u001b[0mtheory\u001b[0m \u001b[0;32mis\u001b[0m \u001b[0;32mnot\u001b[0m \u001b[0;32mNone\u001b[0m\u001b[0;34m:\u001b[0m\u001b[0;34m\u001b[0m\u001b[0;34m\u001b[0m\u001b[0m\n",
      "\u001b[0;32m~/Desktop/tsetlin/mistle_v2.py\u001b[0m in \u001b[0;36mlearn\u001b[0;34m(self, dl_measure, minsup, k, lossy, prune, mining_steps, permitted_operators, allow_empty_positives)\u001b[0m\n\u001b[1;32m   1001\u001b[0m \u001b[0;34m\u001b[0m\u001b[0m\n\u001b[1;32m   1002\u001b[0m         \u001b[0;31m# Convert the set of -ve PAs to a theory\u001b[0m\u001b[0;34m\u001b[0m\u001b[0;34m\u001b[0m\u001b[0m\n\u001b[0;32m-> 1003\u001b[0;31m         success = self.theory.intialize(\n\u001b[0m\u001b[1;32m   1004\u001b[0m             \u001b[0mself\u001b[0m\u001b[0;34m.\u001b[0m\u001b[0mpositives\u001b[0m\u001b[0;34m,\u001b[0m\u001b[0;34m\u001b[0m\u001b[0;34m\u001b[0m\u001b[0m\n\u001b[1;32m   1005\u001b[0m             \u001b[0mself\u001b[0m\u001b[0;34m.\u001b[0m\u001b[0mnegatives\u001b[0m\u001b[0;34m,\u001b[0m\u001b[0;34m\u001b[0m\u001b[0;34m\u001b[0m\u001b[0m\n",
      "\u001b[0;32m~/Desktop/tsetlin/mistle_v2.py\u001b[0m in \u001b[0;36mintialize\u001b[0;34m(self, positives, negatives, dl_measure, alphabet_size, minsup, k, allow_empty_positives)\u001b[0m\n\u001b[1;32m   1159\u001b[0m \u001b[0;34m\u001b[0m\u001b[0m\n\u001b[1;32m   1160\u001b[0m         \u001b[0;32mif\u001b[0m \u001b[0mminsup\u001b[0m \u001b[0;32mis\u001b[0m \u001b[0;32mnot\u001b[0m \u001b[0;32mNone\u001b[0m \u001b[0;32mand\u001b[0m \u001b[0mk\u001b[0m \u001b[0;32mis\u001b[0m \u001b[0;32mNone\u001b[0m\u001b[0;34m:\u001b[0m\u001b[0;34m\u001b[0m\u001b[0;34m\u001b[0m\u001b[0m\n\u001b[0;32m-> 1161\u001b[0;31m             self.freq_items = self.get_frequent_itemsets(\n\u001b[0m\u001b[1;32m   1162\u001b[0m                 \u001b[0mself\u001b[0m\u001b[0;34m.\u001b[0m\u001b[0mclauses\u001b[0m\u001b[0;34m,\u001b[0m \u001b[0mint_minsup\u001b[0m\u001b[0;34m=\u001b[0m\u001b[0mself\u001b[0m\u001b[0;34m.\u001b[0m\u001b[0mminsup\u001b[0m\u001b[0;34m\u001b[0m\u001b[0;34m\u001b[0m\u001b[0m\n\u001b[1;32m   1163\u001b[0m             )\n",
      "\u001b[0;32m~/Desktop/tsetlin/mistle_v2.py\u001b[0m in \u001b[0;36mget_frequent_itemsets\u001b[0;34m(self, clauses, int_minsup, k)\u001b[0m\n\u001b[1;32m   1330\u001b[0m \u001b[0;34m\u001b[0m\u001b[0m\n\u001b[1;32m   1331\u001b[0m         \u001b[0mstart_time1\u001b[0m \u001b[0;34m=\u001b[0m \u001b[0mtime\u001b[0m\u001b[0;34m(\u001b[0m\u001b[0;34m)\u001b[0m\u001b[0;34m\u001b[0m\u001b[0;34m\u001b[0m\u001b[0m\n\u001b[0;32m-> 1332\u001b[0;31m         freq_items_spmf = compute_itemsets(\n\u001b[0m\u001b[1;32m   1333\u001b[0m             \u001b[0mclauses\u001b[0m\u001b[0;34m,\u001b[0m\u001b[0;34m\u001b[0m\u001b[0;34m\u001b[0m\u001b[0m\n\u001b[1;32m   1334\u001b[0m             \u001b[0mint_minsup\u001b[0m\u001b[0;34m,\u001b[0m\u001b[0;34m\u001b[0m\u001b[0;34m\u001b[0m\u001b[0m\n",
      "\u001b[0;32m~/Desktop/tsetlin/pattern_mining.py\u001b[0m in \u001b[0;36mcompute_itemsets\u001b[0;34m(transactions, support, algo, spmf_path, suppress_output, show_transaction_ids)\u001b[0m\n\u001b[1;32m    107\u001b[0m         \u001b[0mparent_support\u001b[0m \u001b[0;34m=\u001b[0m \u001b[0;36m0\u001b[0m\u001b[0;34m\u001b[0m\u001b[0;34m\u001b[0m\u001b[0m\n\u001b[1;32m    108\u001b[0m         \u001b[0mparent_t_ids\u001b[0m \u001b[0;34m=\u001b[0m \u001b[0;32mNone\u001b[0m\u001b[0;34m\u001b[0m\u001b[0;34m\u001b[0m\u001b[0m\n\u001b[0;32m--> 109\u001b[0;31m         \u001b[0;32mwith\u001b[0m \u001b[0mopen\u001b[0m\u001b[0;34m(\u001b[0m\u001b[0moutput_name\u001b[0m\u001b[0;34m)\u001b[0m \u001b[0;32mas\u001b[0m \u001b[0moutput\u001b[0m\u001b[0;34m:\u001b[0m\u001b[0;34m\u001b[0m\u001b[0;34m\u001b[0m\u001b[0m\n\u001b[0m\u001b[1;32m    110\u001b[0m             \u001b[0;32mfor\u001b[0m \u001b[0ml\u001b[0m \u001b[0;32min\u001b[0m \u001b[0moutput\u001b[0m\u001b[0;34m:\u001b[0m\u001b[0;34m\u001b[0m\u001b[0;34m\u001b[0m\u001b[0m\n\u001b[1;32m    111\u001b[0m                 \u001b[0mpattern\u001b[0m\u001b[0;34m,\u001b[0m \u001b[0msupport_t_ids\u001b[0m \u001b[0;34m=\u001b[0m \u001b[0ml\u001b[0m\u001b[0;34m.\u001b[0m\u001b[0msplit\u001b[0m\u001b[0;34m(\u001b[0m\u001b[0;34m\"#SUP:\"\u001b[0m\u001b[0;34m)\u001b[0m\u001b[0;34m\u001b[0m\u001b[0;34m\u001b[0m\u001b[0m\n",
      "\u001b[0;31mFileNotFoundError\u001b[0m: [Errno 2] No such file or directory: '/Users/saranya/Desktop/tsetlin/temp_spmf_dataset_res_041bc12a-2e8d-4bec-b173-e7389f771916'"
     ]
    }
   ],
   "source": [
    "seed = 0\n",
    "random.seed(seed)\n",
    "np.random.seed(seed)\n",
    "\n",
    "start_time = time()\n",
    "\n",
    "th = GeneratedTheory([[1, -4], [2, 5], [6, -7, -8]])\n",
    "generator = TheoryNoisyGeneratorOnDataset(th, 200, 0.7)\n",
    "positives, negatives = generator.generate_dataset()\n",
    "\n",
    "\n",
    "mistle = Mistle(positives, negatives)\n",
    "theory, compression = mistle.learn(minsup=1, dl_measure=\"ce\")\n",
    "print(\"Total time\\t\\t\\t\\t: \" + str(time() - start_time) + \" seconds.\")\n",
    "if theory is not None:\n",
    "    print(\"Final theory has \" + str(len(theory.clauses)) + \" clauses.\")\n",
    "else:\n",
    "    print(\"Empty theory learned.\")\n",
    "    "
   ]
  },
  {
   "cell_type": "code",
   "execution_count": 11,
   "metadata": {
    "pycharm": {
     "is_executing": false,
     "name": "#%%\n"
    }
   },
   "outputs": [
    {
     "name": "stdout",
     "output_type": "stream",
     "text": [
      "[[2, 5], [1, -4], [-8, -7, 6]]\n"
     ]
    }
   ],
   "source": [
    "print([list(c) for c in theory.clauses])"
   ]
  },
  {
   "cell_type": "code",
   "execution_count": 5,
   "metadata": {
    "pycharm": {
     "is_executing": false,
     "name": "#%%\n"
    }
   },
   "outputs": [
    {
     "name": "stdout",
     "output_type": "stream",
     "text": [
      "{frozenset({1, -4}): 164, frozenset({2, 5}): 163, frozenset({-8, -7, 6}): 138, frozenset({5, 7, -8, -6, -4, -3, -1}): 123, frozenset({2, 6, -8, -5, -4, -1}): 124, frozenset({2, 3, 6, -7, -5, -4, -1}): 123}\n"
     ]
    }
   ],
   "source": [
    "nb_models = {}\n",
    "clauses = [frozenset([1, -4]), frozenset([2, 5]), frozenset([6, -7, -8]),\n",
    "           frozenset([-1, -3, -4, 5, -6, 7, -8]),frozenset([-1, 2, -4, -5, 6, -8]),frozenset([-1, 2, 3, -4, -5, 6, -7])]\n",
    "#clauses = theory.unpack_theory()\n",
    "for c in clauses:\n",
    "    new_theory = list(clauses)\n",
    "    new_theory.remove(c)\n",
    "    nb_models[c] = len(list(pycosat.itersolve(new_theory)))\n",
    "\n",
    "nb_models_ref= len(list(pycosat.itersolve(clauses)))\n",
    "print(nb_models)"
   ]
  },
  {
   "cell_type": "code",
   "execution_count": 4,
   "metadata": {
    "pycharm": {
     "is_executing": false,
     "name": "#%%\n"
    }
   },
   "outputs": [],
   "source": [
    "new_errors = {}\n",
    "new_errors_n = {}\n",
    "new_errors_total = {}\n",
    "clauses = [frozenset([1, -4]), frozenset([2, 5]), frozenset([6, -7, -8]),\n",
    "           frozenset([-1, -3, -4, 5, -6, 7, -8]),frozenset([-1, 2, -4, -5, 6, -8]),frozenset([-1, 2, 3, -4, -5, 6, -7])]\n",
    "#clauses = theory.unpack_theory()\n",
    "for c in clauses:\n",
    "    new_theory = list(clauses)\n",
    "    new_theory.remove(c)\n",
    "    m_theory = Theory(new_theory, None, None)\n",
    "    violations = m_theory.get_violations(m_theory.clauses, positives, print_violations=False)\n",
    "    violations_n = m_theory.get_violations(m_theory.clauses, negatives, print_violations=False, sign=\"-\")\n",
    "    new_errors[c] = violations\n",
    "    new_errors_n[c] = violations_n\n",
    "    new_errors_total[c] = violations.union(violations_n)\n",
    "\n",
    "ref_theory = Theory(clauses, None, None)\n",
    "ref_error = ref_theory.get_violations(ref_theory.clauses, positives, print_violations=False)\n",
    "ref_error_n = ref_theory.get_violations(ref_theory.clauses, negatives, print_violations=False, sign=\"-\")\n",
    "ref_error_total = ref_error.union(ref_error_n)"
   ]
  },
  {
   "cell_type": "code",
   "execution_count": 30,
   "metadata": {
    "pycharm": {
     "is_executing": false,
     "name": "#%%\n"
    }
   },
   "outputs": [
    {
     "name": "stdout",
     "output_type": "stream",
     "text": [
      "frozenset({1, -8, -7, -6, -5, -4, -3, -2})\n",
      "frozenset({1, -8, -7, -6, -5, -4, -3, -2})\n",
      "frozenset({-2, -8, -7, -6, -5, -4, -3, -1})\n",
      "frozenset({1, -8, -7, -6, -5, -4, -3, -2})\n",
      "frozenset({-2, -8, -7, -6, -5, -4, -3, -1})\n"
     ]
    }
   ],
   "source": [
    "for n in negatives:\n",
    "    if frozenset([-7, -2, -8, -6, -5, -4, -3]) <= n:\n",
    "        print(n)\n"
   ]
  }
 ],
 "metadata": {
  "kernelspec": {
   "display_name": "Python 3 (ipykernel)",
   "language": "python",
   "name": "python3"
  },
  "language_info": {
   "codemirror_mode": {
    "name": "ipython",
    "version": 3
   },
   "file_extension": ".py",
   "mimetype": "text/x-python",
   "name": "python",
   "nbconvert_exporter": "python",
   "pygments_lexer": "ipython3",
   "version": "3.9.9"
  },
  "pycharm": {
   "stem_cell": {
    "cell_type": "raw",
    "metadata": {
     "collapsed": false
    },
    "source": []
   }
  }
 },
 "nbformat": 4,
 "nbformat_minor": 1
}
